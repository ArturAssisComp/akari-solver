{
 "cells": [
  {
   "cell_type": "markdown",
   "id": "80358f37",
   "metadata": {},
   "source": [
    "# Light Up"
   ]
  },
  {
   "cell_type": "markdown",
   "id": "1372045e",
   "metadata": {},
   "source": [
    "## Criação do agente"
   ]
  },
  {
   "cell_type": "code",
   "execution_count": 8,
   "id": "e1093b65",
   "metadata": {},
   "outputs": [],
   "source": [
    "import akari_solver as aks\n",
    "import logging\n",
    "import logger_config\n",
    "\n",
    "\n",
    "basic_logger = logging.getLogger('basic_logger')\n",
    "\n",
    "my_client = aks.AkariSolver()\n",
    "example0_filename = '../doc/example_game0.txt'\n",
    "example1_filename = '../doc/example_game1.txt'\n",
    "example2_filename = '../doc/example_game2.txt'\n",
    "example3_filename = '../doc/example_game3.txt'\n"
   ]
  },
  {
   "cell_type": "markdown",
   "id": "27740ae4",
   "metadata": {},
   "source": [
    "# Resolver Exemplo 0\n",
    "![Exemplo 0](../doc/solution_to_example0.png)"
   ]
  },
  {
   "cell_type": "code",
   "execution_count": 9,
   "id": "c7bd8814",
   "metadata": {},
   "outputs": [
    {
     "name": "stdout",
     "output_type": "stream",
     "text": [
      "[2022-09-18 17:41:57] [    INFO] akari_solver.py/read_board_from_file - Reading board from:../doc/example_game0.txt\n",
      "[2022-09-18 17:41:57] [    INFO] akari_solver.py/read_board_from_file - Board successfully read\n",
      "[2022-09-18 17:41:57] [    INFO] akari_solver.py/read_board_from_file - Board content: \n",
      "['b1', 'b1', 'w']\n",
      "['w', 'w', 'w']\n",
      "['w', 'w', 'w']\n",
      "['w', 'w', 'b1']\n",
      "[2022-09-18 17:41:57] [    INFO] 3165653927.py/<cell line: 3> - Result:\n",
      "{A0,2: 1, A2,2: 0, A2,0: 0, A1,0: 1, A1,1: 0, A3,0: 0, A3,1: 1, A2,1: 0, A1,2: 0}\n"
     ]
    }
   ],
   "source": [
    "my_client.read_board_from_file(example0_filename)\n",
    "result = my_client.solve()\n",
    "basic_logger.info(f\"Result:\\n{result[0]}\")\n",
    "\n",
    "\n"
   ]
  },
  {
   "cell_type": "markdown",
   "id": "82852e93",
   "metadata": {},
   "source": [
    "# Resolver Exemplo 1\n",
    "![Exemplo 1](../doc/solution_to_example1.png)"
   ]
  },
  {
   "cell_type": "code",
   "execution_count": 10,
   "id": "f4453357",
   "metadata": {},
   "outputs": [
    {
     "name": "stdout",
     "output_type": "stream",
     "text": [
      "[2022-09-18 17:42:00] [    INFO] akari_solver.py/read_board_from_file - Reading board from:../doc/example_game1.txt\n",
      "[2022-09-18 17:42:00] [    INFO] akari_solver.py/read_board_from_file - Board successfully read\n",
      "[2022-09-18 17:42:00] [    INFO] akari_solver.py/read_board_from_file - Board content: \n",
      "['w', 'w', 'w', 'b2', 'w', 'w', 'w']\n",
      "['w', 'w', 'b', 'w', 'w', 'w', 'w']\n",
      "['w', 'w', 'w', 'b2', 'w', 'b2', 'w']\n",
      "['b2', 'w', 'b', 'w', 'b1', 'w', 'b1']\n",
      "['w', 'b', 'w', 'b3', 'w', 'w', 'w']\n",
      "['w', 'w', 'w', 'w', 'b', 'w', 'w']\n",
      "['w', 'w', 'w', 'b1', 'w', 'w', 'w']\n",
      "[2022-09-18 17:42:00] [    INFO] 2238334719.py/<cell line: 3> - Result:\n",
      "{A5,0: 0, A1,1: 0, A1,5: 1, A5,1: 0, A2,0: 0, A5,2: 0, A1,6: 0, A5,3: 1, A1,4: 0, A5,5: 0, A0,0: 0, A5,6: 0, A6,0: 0, A3,1: 1, A4,0: 1, A6,1: 1, A0,6: 0, A2,4: 0, A2,2: 1, A6,2: 0, A0,5: 0, A6,4: 0, A2,6: 1, A4,6: 0, A0,1: 0, A6,5: 0, A6,6: 1, A2,1: 0, A0,4: 1, A3,3: 1, A1,3: 0, A1,0: 1, A0,2: 1, A4,5: 1, A3,5: 0, A4,4: 0, A4,2: 1}\n"
     ]
    }
   ],
   "source": [
    "my_client.read_board_from_file(example1_filename)\n",
    "result = my_client.solve()\n",
    "basic_logger.info(f\"Result:\\n{result[0]}\")\n",
    "\n"
   ]
  },
  {
   "cell_type": "markdown",
   "id": "73478597",
   "metadata": {},
   "source": [
    "# Resolver Exemplo 2\n",
    "![Exemplo 2](../doc/solution_to_example2.png)"
   ]
  },
  {
   "cell_type": "code",
   "execution_count": 11,
   "id": "0ebe46c9",
   "metadata": {},
   "outputs": [
    {
     "name": "stdout",
     "output_type": "stream",
     "text": [
      "[2022-09-18 17:42:05] [    INFO] akari_solver.py/read_board_from_file - Reading board from:../doc/example_game2.txt\n",
      "[2022-09-18 17:42:05] [    INFO] akari_solver.py/read_board_from_file - Board successfully read\n",
      "[2022-09-18 17:42:05] [    INFO] akari_solver.py/read_board_from_file - Board content: \n",
      "['w', 'w', 'b', 'w', 'b', 'w', 'w']\n",
      "['w', 'b', 'w', 'w', 'w', 'b3', 'w']\n",
      "['b0', 'w', 'w', 'w', 'w', 'w', 'b2']\n",
      "['w', 'w', 'w', 'w', 'w', 'w', 'w']\n",
      "['b', 'w', 'w', 'w', 'w', 'w', 'b']\n",
      "['w', 'b3', 'w', 'w', 'w', 'b', 'w']\n",
      "['w', 'w', 'b3', 'w', 'b2', 'w', 'w']\n",
      "[2022-09-18 17:42:05] [    INFO] 1994484361.py/<cell line: 3> - Result:\n",
      "{A4,2: 0, A4,3: 0, A0,0: 1, A0,5: 1, A4,4: 1, A1,2: 0, A4,5: 0, A5,0: 1, A2,1: 0, A5,2: 1, A1,3: 0, A5,3: 0, A2,5: 1, A1,4: 0, A5,4: 0, A2,4: 0, A5,6: 1, A1,6: 1, A6,0: 0, A6,1: 1, A4,1: 0, A0,6: 0, A6,3: 1, A2,3: 0, A6,5: 1, A6,6: 0, A2,2: 0, A3,0: 0, A3,1: 1, A3,2: 0, A3,3: 0, A3,4: 0, A3,5: 0, A3,6: 0, A0,3: 0, A0,1: 0, A1,0: 0}\n"
     ]
    }
   ],
   "source": [
    "\n",
    "my_client.read_board_from_file(example2_filename)\n",
    "result = my_client.solve()\n",
    "basic_logger.info(f\"Result:\\n{result[0]}\")\n",
    "\n",
    "\n"
   ]
  },
  {
   "cell_type": "markdown",
   "id": "d5d13bc9",
   "metadata": {},
   "source": [
    "# Resolver Exemplo 3\n",
    "![Exemplo 3](../doc/solution_to_example3.png)"
   ]
  },
  {
   "cell_type": "code",
   "execution_count": 12,
   "id": "24d2f6a7",
   "metadata": {},
   "outputs": [
    {
     "name": "stdout",
     "output_type": "stream",
     "text": [
      "[2022-09-18 17:42:07] [    INFO] akari_solver.py/read_board_from_file - Reading board from:../doc/example_game3.txt\n",
      "[2022-09-18 17:42:07] [    INFO] akari_solver.py/read_board_from_file - Board successfully read\n",
      "[2022-09-18 17:42:07] [    INFO] akari_solver.py/read_board_from_file - Board content: \n",
      "['w', 'b', 'w', 'b', 'w', 'w', 'w']\n",
      "['w', 'b0', 'w', 'w', 'w', 'b2', 'b']\n",
      "['w', 'w', 'w', 'w', 'w', 'w', 'w']\n",
      "['b', 'w', 'w', 'b', 'w', 'w', 'b']\n",
      "['w', 'w', 'w', 'w', 'w', 'w', 'w']\n",
      "['b0', 'b0', 'w', 'w', 'w', 'b2', 'w']\n",
      "['w', 'w', 'w', 'b1', 'w', 'b', 'w']\n",
      "[2022-09-18 17:42:07] [    INFO] 2673885100.py/<cell line: 3> - Result:\n",
      "{A2,0: 0, A1,2: 0, A0,6: 0, A6,6: 0, A6,4: 0, A6,2: 1, A6,1: 0, A4,1: 0, A2,5: 1, A3,2: 0, A6,0: 0, A5,6: 1, A5,4: 1, A4,0: 0, A5,3: 0, A2,1: 0, A5,2: 0, A3,5: 0, A4,6: 0, A2,3: 0, A2,2: 0, A4,5: 0, A4,2: 0, A4,4: 0, A1,3: 1, A0,4: 0, A4,3: 1, A2,6: 0, A1,4: 0, A0,5: 1, A0,2: 0, A3,1: 1, A3,4: 0, A0,0: 1, A2,4: 0, A1,0: 0}\n"
     ]
    }
   ],
   "source": [
    "my_client.read_board_from_file(example3_filename)\n",
    "result = my_client.solve()\n",
    "basic_logger.info(f\"Result:\\n{result[0]}\")\n"
   ]
  }
 ],
 "metadata": {
  "kernelspec": {
   "display_name": "Python 3 (ipykernel)",
   "language": "python",
   "name": "python3"
  },
  "language_info": {
   "codemirror_mode": {
    "name": "ipython",
    "version": 3
   },
   "file_extension": ".py",
   "mimetype": "text/x-python",
   "name": "python",
   "nbconvert_exporter": "python",
   "pygments_lexer": "ipython3",
   "version": "3.9.13"
  }
 },
 "nbformat": 4,
 "nbformat_minor": 5
}
